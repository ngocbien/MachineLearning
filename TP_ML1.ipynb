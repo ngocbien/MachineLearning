{
 "cells": [
  {
   "cell_type": "markdown",
   "metadata": {},
   "source": [
    "# TP Machine Learning"
   ]
  },
  {
   "cell_type": "code",
   "execution_count": 1,
   "metadata": {},
   "outputs": [],
   "source": [
    "import numpy as np\n",
    "np.set_printoptions(threshold=np.nan)\n",
    "import pandas as pd\n",
    "import warnings \n",
    "import matplotlib.pyplot as plt\n",
    "warnings.filterwarnings('ignore')"
   ]
  },
  {
   "cell_type": "markdown",
   "metadata": {},
   "source": [
    "## I. APPRENTISSAGE NON SUPERVISE : SEGMENTATION ET VISUALISATION"
   ]
  },
  {
   "cell_type": "markdown",
   "metadata": {},
   "source": [
    "### 1. Importation de données"
   ]
  },
  {
   "cell_type": "code",
   "execution_count": 2,
   "metadata": {},
   "outputs": [],
   "source": [
    "data=pd.read_csv('/Users/ChafiounDean/Downloads/TPML/villes.csv',sep=';')\n",
    "X=data.ix[:,1:13].values\n",
    "labels= data.ix[:,0].values"
   ]
  },
  {
   "cell_type": "code",
   "execution_count": 9,
   "metadata": {},
   "outputs": [
    {
     "data": {
      "text/html": [
       "<div>\n",
       "<style>\n",
       "    .dataframe thead tr:only-child th {\n",
       "        text-align: right;\n",
       "    }\n",
       "\n",
       "    .dataframe thead th {\n",
       "        text-align: left;\n",
       "    }\n",
       "\n",
       "    .dataframe tbody tr th {\n",
       "        vertical-align: top;\n",
       "    }\n",
       "</style>\n",
       "<table border=\"1\" class=\"dataframe\">\n",
       "  <thead>\n",
       "    <tr style=\"text-align: right;\">\n",
       "      <th></th>\n",
       "      <th>Hotel</th>\n",
       "      <th>janv</th>\n",
       "      <th>fev</th>\n",
       "      <th>mars</th>\n",
       "      <th>avril</th>\n",
       "      <th>mai</th>\n",
       "      <th>juin</th>\n",
       "      <th>juil</th>\n",
       "      <th>aout</th>\n",
       "      <th>sept</th>\n",
       "      <th>oct</th>\n",
       "      <th>nov</th>\n",
       "      <th>dec</th>\n",
       "    </tr>\n",
       "  </thead>\n",
       "  <tbody>\n",
       "    <tr>\n",
       "      <th>0</th>\n",
       "      <td>ajac</td>\n",
       "      <td>7.7</td>\n",
       "      <td>8.7</td>\n",
       "      <td>10.5</td>\n",
       "      <td>12.6</td>\n",
       "      <td>15.9</td>\n",
       "      <td>19.8</td>\n",
       "      <td>22.0</td>\n",
       "      <td>22.2</td>\n",
       "      <td>20.3</td>\n",
       "      <td>16.3</td>\n",
       "      <td>11.8</td>\n",
       "      <td>8.7</td>\n",
       "    </tr>\n",
       "    <tr>\n",
       "      <th>1</th>\n",
       "      <td>ange</td>\n",
       "      <td>4.2</td>\n",
       "      <td>4.9</td>\n",
       "      <td>7.9</td>\n",
       "      <td>10.4</td>\n",
       "      <td>13.6</td>\n",
       "      <td>17.0</td>\n",
       "      <td>18.7</td>\n",
       "      <td>18.4</td>\n",
       "      <td>16.1</td>\n",
       "      <td>11.7</td>\n",
       "      <td>7.6</td>\n",
       "      <td>4.9</td>\n",
       "    </tr>\n",
       "    <tr>\n",
       "      <th>2</th>\n",
       "      <td>ango</td>\n",
       "      <td>4.6</td>\n",
       "      <td>5.4</td>\n",
       "      <td>8.9</td>\n",
       "      <td>11.3</td>\n",
       "      <td>14.5</td>\n",
       "      <td>17.2</td>\n",
       "      <td>19.5</td>\n",
       "      <td>19.4</td>\n",
       "      <td>16.9</td>\n",
       "      <td>12.5</td>\n",
       "      <td>8.1</td>\n",
       "      <td>5.3</td>\n",
       "    </tr>\n",
       "    <tr>\n",
       "      <th>3</th>\n",
       "      <td>besa</td>\n",
       "      <td>1.1</td>\n",
       "      <td>2.2</td>\n",
       "      <td>6.4</td>\n",
       "      <td>9.7</td>\n",
       "      <td>13.6</td>\n",
       "      <td>16.9</td>\n",
       "      <td>18.7</td>\n",
       "      <td>18.3</td>\n",
       "      <td>15.5</td>\n",
       "      <td>10.4</td>\n",
       "      <td>5.7</td>\n",
       "      <td>2.0</td>\n",
       "    </tr>\n",
       "    <tr>\n",
       "      <th>4</th>\n",
       "      <td>biar</td>\n",
       "      <td>7.6</td>\n",
       "      <td>8.0</td>\n",
       "      <td>10.8</td>\n",
       "      <td>12.0</td>\n",
       "      <td>14.7</td>\n",
       "      <td>17.8</td>\n",
       "      <td>19.7</td>\n",
       "      <td>19.9</td>\n",
       "      <td>18.5</td>\n",
       "      <td>14.8</td>\n",
       "      <td>10.9</td>\n",
       "      <td>8.2</td>\n",
       "    </tr>\n",
       "    <tr>\n",
       "      <th>5</th>\n",
       "      <td>bord</td>\n",
       "      <td>5.6</td>\n",
       "      <td>6.6</td>\n",
       "      <td>10.3</td>\n",
       "      <td>12.8</td>\n",
       "      <td>15.8</td>\n",
       "      <td>19.3</td>\n",
       "      <td>20.9</td>\n",
       "      <td>21.0</td>\n",
       "      <td>18.6</td>\n",
       "      <td>13.8</td>\n",
       "      <td>9.1</td>\n",
       "      <td>6.2</td>\n",
       "    </tr>\n",
       "    <tr>\n",
       "      <th>6</th>\n",
       "      <td>bres</td>\n",
       "      <td>6.1</td>\n",
       "      <td>5.8</td>\n",
       "      <td>7.8</td>\n",
       "      <td>9.2</td>\n",
       "      <td>11.6</td>\n",
       "      <td>14.4</td>\n",
       "      <td>15.6</td>\n",
       "      <td>16.0</td>\n",
       "      <td>14.7</td>\n",
       "      <td>12.0</td>\n",
       "      <td>9.0</td>\n",
       "      <td>7.0</td>\n",
       "    </tr>\n",
       "    <tr>\n",
       "      <th>7</th>\n",
       "      <td>cler</td>\n",
       "      <td>2.6</td>\n",
       "      <td>3.7</td>\n",
       "      <td>7.5</td>\n",
       "      <td>10.3</td>\n",
       "      <td>13.8</td>\n",
       "      <td>17.3</td>\n",
       "      <td>19.4</td>\n",
       "      <td>19.1</td>\n",
       "      <td>16.2</td>\n",
       "      <td>11.2</td>\n",
       "      <td>6.6</td>\n",
       "      <td>3.6</td>\n",
       "    </tr>\n",
       "    <tr>\n",
       "      <th>8</th>\n",
       "      <td>dijo</td>\n",
       "      <td>1.3</td>\n",
       "      <td>2.6</td>\n",
       "      <td>6.9</td>\n",
       "      <td>10.4</td>\n",
       "      <td>14.3</td>\n",
       "      <td>17.7</td>\n",
       "      <td>19.6</td>\n",
       "      <td>19.0</td>\n",
       "      <td>15.9</td>\n",
       "      <td>10.5</td>\n",
       "      <td>5.7</td>\n",
       "      <td>2.1</td>\n",
       "    </tr>\n",
       "    <tr>\n",
       "      <th>9</th>\n",
       "      <td>embr</td>\n",
       "      <td>0.5</td>\n",
       "      <td>1.6</td>\n",
       "      <td>5.7</td>\n",
       "      <td>9.0</td>\n",
       "      <td>13.0</td>\n",
       "      <td>16.4</td>\n",
       "      <td>18.9</td>\n",
       "      <td>18.3</td>\n",
       "      <td>15.3</td>\n",
       "      <td>10.1</td>\n",
       "      <td>4.6</td>\n",
       "      <td>0.5</td>\n",
       "    </tr>\n",
       "    <tr>\n",
       "      <th>10</th>\n",
       "      <td>gren</td>\n",
       "      <td>1.5</td>\n",
       "      <td>3.2</td>\n",
       "      <td>7.7</td>\n",
       "      <td>10.6</td>\n",
       "      <td>14.5</td>\n",
       "      <td>17.8</td>\n",
       "      <td>20.1</td>\n",
       "      <td>19.5</td>\n",
       "      <td>16.7</td>\n",
       "      <td>11.4</td>\n",
       "      <td>6.5</td>\n",
       "      <td>2.3</td>\n",
       "    </tr>\n",
       "    <tr>\n",
       "      <th>11</th>\n",
       "      <td>lill</td>\n",
       "      <td>2.4</td>\n",
       "      <td>2.9</td>\n",
       "      <td>6.0</td>\n",
       "      <td>8.9</td>\n",
       "      <td>12.4</td>\n",
       "      <td>15.3</td>\n",
       "      <td>17.1</td>\n",
       "      <td>17.1</td>\n",
       "      <td>14.7</td>\n",
       "      <td>10.4</td>\n",
       "      <td>6.1</td>\n",
       "      <td>3.5</td>\n",
       "    </tr>\n",
       "    <tr>\n",
       "      <th>12</th>\n",
       "      <td>limo</td>\n",
       "      <td>3.1</td>\n",
       "      <td>3.9</td>\n",
       "      <td>7.4</td>\n",
       "      <td>9.9</td>\n",
       "      <td>13.3</td>\n",
       "      <td>16.8</td>\n",
       "      <td>18.4</td>\n",
       "      <td>17.8</td>\n",
       "      <td>15.3</td>\n",
       "      <td>10.7</td>\n",
       "      <td>6.7</td>\n",
       "      <td>3.8</td>\n",
       "    </tr>\n",
       "    <tr>\n",
       "      <th>13</th>\n",
       "      <td>lyon</td>\n",
       "      <td>2.1</td>\n",
       "      <td>3.3</td>\n",
       "      <td>7.7</td>\n",
       "      <td>10.9</td>\n",
       "      <td>14.9</td>\n",
       "      <td>18.5</td>\n",
       "      <td>20.7</td>\n",
       "      <td>20.1</td>\n",
       "      <td>16.9</td>\n",
       "      <td>11.4</td>\n",
       "      <td>6.7</td>\n",
       "      <td>3.1</td>\n",
       "    </tr>\n",
       "    <tr>\n",
       "      <th>14</th>\n",
       "      <td>mars</td>\n",
       "      <td>5.5</td>\n",
       "      <td>6.6</td>\n",
       "      <td>10.0</td>\n",
       "      <td>13.0</td>\n",
       "      <td>16.8</td>\n",
       "      <td>20.8</td>\n",
       "      <td>23.3</td>\n",
       "      <td>22.8</td>\n",
       "      <td>19.9</td>\n",
       "      <td>15.0</td>\n",
       "      <td>10.2</td>\n",
       "      <td>6.9</td>\n",
       "    </tr>\n",
       "    <tr>\n",
       "      <th>15</th>\n",
       "      <td>mont</td>\n",
       "      <td>5.6</td>\n",
       "      <td>6.7</td>\n",
       "      <td>9.9</td>\n",
       "      <td>12.8</td>\n",
       "      <td>16.2</td>\n",
       "      <td>20.1</td>\n",
       "      <td>22.7</td>\n",
       "      <td>22.3</td>\n",
       "      <td>19.3</td>\n",
       "      <td>14.6</td>\n",
       "      <td>10.0</td>\n",
       "      <td>6.5</td>\n",
       "    </tr>\n",
       "    <tr>\n",
       "      <th>16</th>\n",
       "      <td>nanc</td>\n",
       "      <td>0.8</td>\n",
       "      <td>1.6</td>\n",
       "      <td>5.5</td>\n",
       "      <td>9.2</td>\n",
       "      <td>13.3</td>\n",
       "      <td>16.5</td>\n",
       "      <td>18.3</td>\n",
       "      <td>17.7</td>\n",
       "      <td>14.7</td>\n",
       "      <td>9.4</td>\n",
       "      <td>5.2</td>\n",
       "      <td>1.8</td>\n",
       "    </tr>\n",
       "    <tr>\n",
       "      <th>17</th>\n",
       "      <td>nant</td>\n",
       "      <td>5.0</td>\n",
       "      <td>5.3</td>\n",
       "      <td>8.4</td>\n",
       "      <td>10.8</td>\n",
       "      <td>13.9</td>\n",
       "      <td>17.2</td>\n",
       "      <td>18.8</td>\n",
       "      <td>18.6</td>\n",
       "      <td>16.4</td>\n",
       "      <td>12.2</td>\n",
       "      <td>8.2</td>\n",
       "      <td>5.5</td>\n",
       "    </tr>\n",
       "    <tr>\n",
       "      <th>18</th>\n",
       "      <td>nice</td>\n",
       "      <td>7.5</td>\n",
       "      <td>8.5</td>\n",
       "      <td>10.8</td>\n",
       "      <td>13.3</td>\n",
       "      <td>16.7</td>\n",
       "      <td>20.1</td>\n",
       "      <td>22.7</td>\n",
       "      <td>22.5</td>\n",
       "      <td>20.3</td>\n",
       "      <td>16.0</td>\n",
       "      <td>11.5</td>\n",
       "      <td>8.2</td>\n",
       "    </tr>\n",
       "    <tr>\n",
       "      <th>19</th>\n",
       "      <td>nime</td>\n",
       "      <td>5.7</td>\n",
       "      <td>6.8</td>\n",
       "      <td>10.1</td>\n",
       "      <td>13.0</td>\n",
       "      <td>16.6</td>\n",
       "      <td>20.8</td>\n",
       "      <td>23.6</td>\n",
       "      <td>22.9</td>\n",
       "      <td>19.7</td>\n",
       "      <td>14.6</td>\n",
       "      <td>9.8</td>\n",
       "      <td>6.5</td>\n",
       "    </tr>\n",
       "    <tr>\n",
       "      <th>20</th>\n",
       "      <td>orle</td>\n",
       "      <td>2.7</td>\n",
       "      <td>3.6</td>\n",
       "      <td>6.9</td>\n",
       "      <td>9.8</td>\n",
       "      <td>13.4</td>\n",
       "      <td>16.6</td>\n",
       "      <td>18.4</td>\n",
       "      <td>18.2</td>\n",
       "      <td>15.6</td>\n",
       "      <td>10.9</td>\n",
       "      <td>6.6</td>\n",
       "      <td>3.6</td>\n",
       "    </tr>\n",
       "    <tr>\n",
       "      <th>21</th>\n",
       "      <td>pari</td>\n",
       "      <td>3.4</td>\n",
       "      <td>4.1</td>\n",
       "      <td>7.6</td>\n",
       "      <td>10.7</td>\n",
       "      <td>14.3</td>\n",
       "      <td>17.5</td>\n",
       "      <td>19.1</td>\n",
       "      <td>18.7</td>\n",
       "      <td>16.0</td>\n",
       "      <td>11.4</td>\n",
       "      <td>7.1</td>\n",
       "      <td>4.3</td>\n",
       "    </tr>\n",
       "    <tr>\n",
       "      <th>22</th>\n",
       "      <td>perp</td>\n",
       "      <td>7.5</td>\n",
       "      <td>8.4</td>\n",
       "      <td>11.3</td>\n",
       "      <td>13.9</td>\n",
       "      <td>17.1</td>\n",
       "      <td>21.1</td>\n",
       "      <td>23.8</td>\n",
       "      <td>23.3</td>\n",
       "      <td>20.5</td>\n",
       "      <td>15.9</td>\n",
       "      <td>11.5</td>\n",
       "      <td>8.6</td>\n",
       "    </tr>\n",
       "    <tr>\n",
       "      <th>23</th>\n",
       "      <td>reim</td>\n",
       "      <td>1.9</td>\n",
       "      <td>2.8</td>\n",
       "      <td>6.2</td>\n",
       "      <td>9.4</td>\n",
       "      <td>13.3</td>\n",
       "      <td>16.4</td>\n",
       "      <td>18.3</td>\n",
       "      <td>17.9</td>\n",
       "      <td>15.1</td>\n",
       "      <td>10.3</td>\n",
       "      <td>6.1</td>\n",
       "      <td>3.0</td>\n",
       "    </tr>\n",
       "    <tr>\n",
       "      <th>24</th>\n",
       "      <td>renn</td>\n",
       "      <td>4.8</td>\n",
       "      <td>5.3</td>\n",
       "      <td>7.9</td>\n",
       "      <td>10.1</td>\n",
       "      <td>13.1</td>\n",
       "      <td>16.2</td>\n",
       "      <td>17.9</td>\n",
       "      <td>17.8</td>\n",
       "      <td>15.7</td>\n",
       "      <td>11.6</td>\n",
       "      <td>7.8</td>\n",
       "      <td>5.4</td>\n",
       "    </tr>\n",
       "    <tr>\n",
       "      <th>25</th>\n",
       "      <td>roue</td>\n",
       "      <td>3.4</td>\n",
       "      <td>3.9</td>\n",
       "      <td>6.8</td>\n",
       "      <td>9.5</td>\n",
       "      <td>12.9</td>\n",
       "      <td>15.7</td>\n",
       "      <td>17.6</td>\n",
       "      <td>17.2</td>\n",
       "      <td>15.0</td>\n",
       "      <td>11.0</td>\n",
       "      <td>6.8</td>\n",
       "      <td>4.3</td>\n",
       "    </tr>\n",
       "    <tr>\n",
       "      <th>26</th>\n",
       "      <td>stqu</td>\n",
       "      <td>2.0</td>\n",
       "      <td>2.9</td>\n",
       "      <td>6.3</td>\n",
       "      <td>9.2</td>\n",
       "      <td>12.7</td>\n",
       "      <td>15.6</td>\n",
       "      <td>17.4</td>\n",
       "      <td>17.4</td>\n",
       "      <td>15.0</td>\n",
       "      <td>10.5</td>\n",
       "      <td>6.1</td>\n",
       "      <td>3.1</td>\n",
       "    </tr>\n",
       "    <tr>\n",
       "      <th>27</th>\n",
       "      <td>stra</td>\n",
       "      <td>0.4</td>\n",
       "      <td>1.5</td>\n",
       "      <td>5.6</td>\n",
       "      <td>9.8</td>\n",
       "      <td>14.0</td>\n",
       "      <td>17.2</td>\n",
       "      <td>19.0</td>\n",
       "      <td>18.3</td>\n",
       "      <td>15.1</td>\n",
       "      <td>9.5</td>\n",
       "      <td>4.9</td>\n",
       "      <td>1.3</td>\n",
       "    </tr>\n",
       "    <tr>\n",
       "      <th>28</th>\n",
       "      <td>toul</td>\n",
       "      <td>8.6</td>\n",
       "      <td>9.1</td>\n",
       "      <td>11.2</td>\n",
       "      <td>13.4</td>\n",
       "      <td>16.6</td>\n",
       "      <td>20.2</td>\n",
       "      <td>22.6</td>\n",
       "      <td>22.4</td>\n",
       "      <td>20.5</td>\n",
       "      <td>16.5</td>\n",
       "      <td>12.6</td>\n",
       "      <td>9.7</td>\n",
       "    </tr>\n",
       "    <tr>\n",
       "      <th>29</th>\n",
       "      <td>tlse</td>\n",
       "      <td>4.7</td>\n",
       "      <td>5.6</td>\n",
       "      <td>9.2</td>\n",
       "      <td>11.6</td>\n",
       "      <td>14.9</td>\n",
       "      <td>18.7</td>\n",
       "      <td>20.9</td>\n",
       "      <td>20.9</td>\n",
       "      <td>18.3</td>\n",
       "      <td>13.3</td>\n",
       "      <td>8.6</td>\n",
       "      <td>5.5</td>\n",
       "    </tr>\n",
       "    <tr>\n",
       "      <th>30</th>\n",
       "      <td>tour</td>\n",
       "      <td>3.5</td>\n",
       "      <td>4.4</td>\n",
       "      <td>7.7</td>\n",
       "      <td>10.6</td>\n",
       "      <td>13.9</td>\n",
       "      <td>17.4</td>\n",
       "      <td>19.1</td>\n",
       "      <td>18.7</td>\n",
       "      <td>16.2</td>\n",
       "      <td>11.7</td>\n",
       "      <td>7.2</td>\n",
       "      <td>4.3</td>\n",
       "    </tr>\n",
       "    <tr>\n",
       "      <th>31</th>\n",
       "      <td>vich</td>\n",
       "      <td>2.4</td>\n",
       "      <td>3.4</td>\n",
       "      <td>7.1</td>\n",
       "      <td>9.9</td>\n",
       "      <td>13.6</td>\n",
       "      <td>17.1</td>\n",
       "      <td>19.3</td>\n",
       "      <td>18.8</td>\n",
       "      <td>16.0</td>\n",
       "      <td>11.0</td>\n",
       "      <td>6.6</td>\n",
       "      <td>3.4</td>\n",
       "    </tr>\n",
       "  </tbody>\n",
       "</table>\n",
       "</div>"
      ],
      "text/plain": [
       "   Hotel  janv  fev  mars  avril   mai  juin  juil  aout  sept   oct   nov  \\\n",
       "0   ajac   7.7  8.7  10.5   12.6  15.9  19.8  22.0  22.2  20.3  16.3  11.8   \n",
       "1   ange   4.2  4.9   7.9   10.4  13.6  17.0  18.7  18.4  16.1  11.7   7.6   \n",
       "2   ango   4.6  5.4   8.9   11.3  14.5  17.2  19.5  19.4  16.9  12.5   8.1   \n",
       "3   besa   1.1  2.2   6.4    9.7  13.6  16.9  18.7  18.3  15.5  10.4   5.7   \n",
       "4   biar   7.6  8.0  10.8   12.0  14.7  17.8  19.7  19.9  18.5  14.8  10.9   \n",
       "5   bord   5.6  6.6  10.3   12.8  15.8  19.3  20.9  21.0  18.6  13.8   9.1   \n",
       "6   bres   6.1  5.8   7.8    9.2  11.6  14.4  15.6  16.0  14.7  12.0   9.0   \n",
       "7   cler   2.6  3.7   7.5   10.3  13.8  17.3  19.4  19.1  16.2  11.2   6.6   \n",
       "8   dijo   1.3  2.6   6.9   10.4  14.3  17.7  19.6  19.0  15.9  10.5   5.7   \n",
       "9   embr   0.5  1.6   5.7    9.0  13.0  16.4  18.9  18.3  15.3  10.1   4.6   \n",
       "10  gren   1.5  3.2   7.7   10.6  14.5  17.8  20.1  19.5  16.7  11.4   6.5   \n",
       "11  lill   2.4  2.9   6.0    8.9  12.4  15.3  17.1  17.1  14.7  10.4   6.1   \n",
       "12  limo   3.1  3.9   7.4    9.9  13.3  16.8  18.4  17.8  15.3  10.7   6.7   \n",
       "13  lyon   2.1  3.3   7.7   10.9  14.9  18.5  20.7  20.1  16.9  11.4   6.7   \n",
       "14  mars   5.5  6.6  10.0   13.0  16.8  20.8  23.3  22.8  19.9  15.0  10.2   \n",
       "15  mont   5.6  6.7   9.9   12.8  16.2  20.1  22.7  22.3  19.3  14.6  10.0   \n",
       "16  nanc   0.8  1.6   5.5    9.2  13.3  16.5  18.3  17.7  14.7   9.4   5.2   \n",
       "17  nant   5.0  5.3   8.4   10.8  13.9  17.2  18.8  18.6  16.4  12.2   8.2   \n",
       "18  nice   7.5  8.5  10.8   13.3  16.7  20.1  22.7  22.5  20.3  16.0  11.5   \n",
       "19  nime   5.7  6.8  10.1   13.0  16.6  20.8  23.6  22.9  19.7  14.6   9.8   \n",
       "20  orle   2.7  3.6   6.9    9.8  13.4  16.6  18.4  18.2  15.6  10.9   6.6   \n",
       "21  pari   3.4  4.1   7.6   10.7  14.3  17.5  19.1  18.7  16.0  11.4   7.1   \n",
       "22  perp   7.5  8.4  11.3   13.9  17.1  21.1  23.8  23.3  20.5  15.9  11.5   \n",
       "23  reim   1.9  2.8   6.2    9.4  13.3  16.4  18.3  17.9  15.1  10.3   6.1   \n",
       "24  renn   4.8  5.3   7.9   10.1  13.1  16.2  17.9  17.8  15.7  11.6   7.8   \n",
       "25  roue   3.4  3.9   6.8    9.5  12.9  15.7  17.6  17.2  15.0  11.0   6.8   \n",
       "26  stqu   2.0  2.9   6.3    9.2  12.7  15.6  17.4  17.4  15.0  10.5   6.1   \n",
       "27  stra   0.4  1.5   5.6    9.8  14.0  17.2  19.0  18.3  15.1   9.5   4.9   \n",
       "28  toul   8.6  9.1  11.2   13.4  16.6  20.2  22.6  22.4  20.5  16.5  12.6   \n",
       "29  tlse   4.7  5.6   9.2   11.6  14.9  18.7  20.9  20.9  18.3  13.3   8.6   \n",
       "30  tour   3.5  4.4   7.7   10.6  13.9  17.4  19.1  18.7  16.2  11.7   7.2   \n",
       "31  vich   2.4  3.4   7.1    9.9  13.6  17.1  19.3  18.8  16.0  11.0   6.6   \n",
       "\n",
       "    dec  \n",
       "0   8.7  \n",
       "1   4.9  \n",
       "2   5.3  \n",
       "3   2.0  \n",
       "4   8.2  \n",
       "5   6.2  \n",
       "6   7.0  \n",
       "7   3.6  \n",
       "8   2.1  \n",
       "9   0.5  \n",
       "10  2.3  \n",
       "11  3.5  \n",
       "12  3.8  \n",
       "13  3.1  \n",
       "14  6.9  \n",
       "15  6.5  \n",
       "16  1.8  \n",
       "17  5.5  \n",
       "18  8.2  \n",
       "19  6.5  \n",
       "20  3.6  \n",
       "21  4.3  \n",
       "22  8.6  \n",
       "23  3.0  \n",
       "24  5.4  \n",
       "25  4.3  \n",
       "26  3.1  \n",
       "27  1.3  \n",
       "28  9.7  \n",
       "29  5.5  \n",
       "30  4.3  \n",
       "31  3.4  "
      ]
     },
     "execution_count": 9,
     "metadata": {},
     "output_type": "execute_result"
    }
   ],
   "source": [
    "data.head()"
   ]
  },
  {
   "cell_type": "markdown",
   "metadata": {},
   "source": [
    "### 2. Analyse En composante Principale"
   ]
  },
  {
   "cell_type": "code",
   "execution_count": 4,
   "metadata": {},
   "outputs": [
    {
     "name": "stdout",
     "output_type": "stream",
     "text": [
      "StandardScaler(copy=True, with_mean=True, with_std=True)\n"
     ]
    }
   ],
   "source": [
    "from sklearn.preprocessing import StandardScaler\n",
    "scaler= StandardScaler()\n",
    "print(scaler.fit(X))\n",
    "X_CR=scaler.transform(X) # Jeu de données normalisées."
   ]
  },
  {
   "cell_type": "code",
   "execution_count": 5,
   "metadata": {},
   "outputs": [
    {
     "name": "stdout",
     "output_type": "stream",
     "text": [
      "[ 0.87268193  0.11720602]\n"
     ]
    }
   ],
   "source": [
    "from sklearn.decomposition import PCA\n",
    "pca=PCA(n_components=2)\n",
    "X_pca=pca.fit_transform(X_CR)# Nouvelles variables données par l'ACP.\n",
    "print(pca.explained_variance_ratio_)# Liste des premieres variances dont les axes expliquent 70%\n",
    "# de l'information des données avant transformation."
   ]
  },
  {
   "cell_type": "code",
   "execution_count": 6,
   "metadata": {},
   "outputs": [
    {
     "data": {
      "text/plain": [
       "array([[ 0.27151028,  0.28846164,  0.3010811 ,  0.30354174,  0.28353089,\n",
       "         0.27841907,  0.27290295,  0.28757774,  0.30472022,  0.3038548 ,\n",
       "         0.29242808,  0.2729549 ],\n",
       "       [ 0.39933494,  0.29907184,  0.12943051, -0.11530598, -0.32314291,\n",
       "        -0.35846763, -0.38879639, -0.3010133 , -0.11231622,  0.12249226,\n",
       "         0.26269461,  0.38693688]])"
      ]
     },
     "execution_count": 6,
     "metadata": {},
     "output_type": "execute_result"
    }
   ],
   "source": [
    "pca.components_ # Affichage des composantes principales."
   ]
  },
  {
   "cell_type": "markdown",
   "metadata": {},
   "source": [
    "La première composante de l'ACP représente les températures moyennes par ville sur l'année qui permet de séparer les villes du nord où il fait froid et celles du sud où il fait plus chaud. La deuxieme composante quand à elle représante les villes en fonction de leur difference de température entre les mois d'hiver et ceux d'été, par exemples dans le graphique ci-dessous on observe une forte valeur de la ville de Brest pour la composante 2 car c'est la ville ou on observe l'ecart de temperature le plus faible dans parmi celle du nord, chez les villes du sud on peut voir la meme chose pour la ville de Biaritz."
   ]
  },
  {
   "cell_type": "code",
   "execution_count": 40,
   "metadata": {},
   "outputs": [
    {
     "data": {
      "image/png": "[encoded data removed]",
      "text/plain": [
       "<matplotlib.figure.Figure at 0x1a13216198>"
      ]
     },
     "metadata": {},
     "output_type": "display_data"
    }
   ],
   "source": [
    "plt.scatter(X_pca[:,0],X_pca[:,1])\n",
    "\n",
    "for label, x, y in zip(labels,X_pca[:,0],X_pca[:,1]):\n",
    "    plt.annotate(label, xy=(x,y),xytext=(-0.2,0.2),textcoords='offset points')\n",
    "plt.show()"
   ]
  },
  {
   "cell_type": "markdown",
   "metadata": {},
   "source": [
    "###### Les premières composantes"
   ]
  },
  {
   "cell_type": "code",
   "execution_count": 113,
   "metadata": {},
   "outputs": [
    {
     "data": {
      "text/plain": [
       "array([[ 0.27151028,  0.28846164,  0.3010811 ,  0.30354174,  0.28353089,\n",
       "         0.27841907,  0.27290295,  0.28757774,  0.30472022,  0.3038548 ,\n",
       "         0.29242808,  0.2729549 ],\n",
       "       [ 0.39933494,  0.29907184,  0.12943051, -0.11530598, -0.32314291,\n",
       "        -0.35846763, -0.38879639, -0.3010133 , -0.11231622,  0.12249226,\n",
       "         0.26269461,  0.38693688]])"
      ]
     },
     "execution_count": 113,
     "metadata": {},
     "output_type": "execute_result"
    }
   ],
   "source": [
    "pca.components_"
   ]
  },
  {
   "cell_type": "markdown",
   "metadata": {},
   "source": [
    "### 3. Meme Chose avec les données \"crimes.csv\""
   ]
  },
  {
   "cell_type": "code",
   "execution_count": 42,
   "metadata": {},
   "outputs": [
    {
     "name": "stdout",
     "output_type": "stream",
     "text": [
      "              Etat   Meutre  Rapt    Vol  Attaque    Viol  Larcin  Auto_Theft\n",
      "0           Alabama    14.2  25.2   96.8    278.3  1135.5  1881.9       280.7\n",
      "1            Alaska    10.8  51.6   96.8    284.0  1331.7  3369.8       753.3\n",
      "2           Arizona     9.5  34.2  138.2    312.3  2346.1  4467.4       439.5\n",
      "3          Arkansas     8.8  27.6   83.2    203.4   972.6  1862.1       183.4\n",
      "4        California    11.5  49.4  287.0    358.0  2139.4  3499.8       663.5\n",
      "5          Colorado     6.3  42.0  170.7    292.9  1935.2  3903.2       477.1\n",
      "6       Connecticut     4.2  16.8  129.5    131.8  1346.0  2620.7       593.2\n",
      "7          Delaware     6.0  24.9  157.0    194.2  1682.6  3678.4       467.0\n",
      "8           Florida    10.2  39.6  187.9    449.1  1859.9  3840.5       351.4\n",
      "9           Georgia    11.7  31.1  140.5    256.5  1351.1  2170.2       297.9\n",
      "10           Hawaii     7.2  25.5  128.0     64.1  1911.5  3920.4       489.4\n",
      "11            Idaho     5.5  19.4   39.6    172.5  1050.8  2599.6       237.6\n",
      "12         Illinois     9.9  21.8  211.3    209.0  1085.0  2828.5       528.6\n",
      "13          Indiana     7.4  26.5  123.2    153.5  1086.2  2498.7       377.4\n",
      "14             Iowa     2.3  10.6   41.2     89.8   812.5  2685.1       219.9\n",
      "15           Kansas     6.6  22.0  100.7    180.5  1270.4  2739.3       244.3\n",
      "16         Kentucky    10.1  19.1   81.1    123.3   872.2  1662.1       245.4\n",
      "17        Louisiana    15.5  30.9  142.9    335.5  1165.5  2469.9       337.7\n",
      "18            Maine     2.4  13.5   38.7    170.0  1253.1  2350.7       246.9\n",
      "19         Maryland     8.0  34.8  292.1    358.9  1400.0  3177.7       428.5\n",
      "20    Massachusetts     3.1  20.8  169.1    231.6  1532.2  2311.3      1140.1\n",
      "21         Michigan     9.3  38.9  261.9    274.6  1522.7  3159.0       545.5\n",
      "22        Minnesota     2.7  19.5   85.9     85.8  1134.7  2559.3       343.1\n",
      "23      Mississippi    14.3  19.6   65.7    189.1   915.6  1239.9       144.4\n",
      "24         Missouri     9.6  28.3  189.0    233.5  1318.3  2424.2       378.4\n",
      "25          Montana     5.4  16.7   39.2    156.8   804.9  2773.2       309.2\n",
      "26         Nebraska     3.9  18.1   64.7    112.7   760.0  2316.1       249.1\n",
      "27           Nevada    15.8  49.1  323.1    355.0  2453.1  4212.6       559.2\n",
      "28    New-Hampshire     3.2  10.7   23.2     76.0  1041.7  2343.9       293.4\n",
      "29       New-Jersey     5.6  21.0  180.4    185.1  1435.8  2774.5       511.5\n",
      "30       New-Mexico     8.8  39.1  109.6    343.4  1418.7  3008.6       259.5\n",
      "31         New-York    10.7  29.4  472.6    319.1  1728.0  2782.0       745.8\n",
      "32  North-Carolina     10.6  17.0   61.3    318.3  1154.1  2037.8       192.1\n",
      "33     North-Dakota     0.9   9.0   13.3     43.8   446.1  1843.0       144.7\n",
      "34             Ohio     7.8  27.3  190.5    181.1  1216.0  2696.8       400.4\n",
      "35         Oklahoma     8.6  29.2   73.8    205.0  1288.2  2228.1       326.8\n",
      "36           Oregon     4.9  39.9  124.1    286.9  1636.4  3506.1       388.9\n",
      "37     Pennsylvania     5.6  19.0  130.3    128.0   877.5  1624.1       333.2\n",
      "38     Rhode-Island     3.6  10.5   86.5    201.0  1489.5  2844.1       791.4\n",
      "39  South-Carolina     11.9  33.0  105.9    485.3  1613.6  2342.4       245.1\n",
      "40     South-Dakota     2.0  13.5   17.9    155.7   570.5  1704.4       147.5\n",
      "41        Tennessee    10.1  29.7  145.8    203.9  1259.7  1776.5       314.0\n",
      "42            Texas    13.3  33.8  152.4    208.2  1603.1  2988.7       397.6\n",
      "43             Utah     3.5  20.3   68.8    147.3  1171.6  3004.6       334.5\n",
      "44          Vermont     1.4  15.9   30.8    101.2  1348.2  2201.0       265.2\n",
      "45         Virginia     9.0  23.3   92.1    165.7   986.2  2521.2       226.7\n",
      "46       Washington     4.3  39.6  106.2    224.8  1605.6  3386.9       360.3\n",
      "47    West-Virginia     6.0  13.2   42.2     90.9   597.4  1341.7       163.3\n",
      "48        Wisconsin     2.8  12.9   52.2     63.7   846.9  2614.2       220.7\n",
      "49          Wyoming     5.4  21.9   39.7    173.9   811.6  2772.2       282.0\n"
     ]
    }
   ],
   "source": [
    "print(data2)"
   ]
  },
  {
   "cell_type": "code",
   "execution_count": 29,
   "metadata": {},
   "outputs": [],
   "source": [
    "pca2=PCA(n_components=2)"
   ]
  },
  {
   "cell_type": "code",
   "execution_count": 43,
   "metadata": {},
   "outputs": [
    {
     "name": "stdout",
     "output_type": "stream",
     "text": [
      "StandardScaler(copy=True, with_mean=True, with_std=True)\n",
      "[ 0.58785136  0.17696026]\n"
     ]
    }
   ],
   "source": [
    "data2=pd.read_csv('/Users/ChafiounDean/Downloads/TPML/crime.csv',sep=';')\n",
    "Y=data2.ix[:,1:8].values\n",
    "labels2= data2.ix[:,0].values\n",
    "print(scaler.fit(Y))\n",
    "Y_CR=scaler.transform(Y) ## le jeu de donnée centré-réduit\n",
    "Y_pca=pca2.fit_transform(Y_CR)\n",
    "print(pca2.explained_variance_ratio_)"
   ]
  },
  {
   "cell_type": "code",
   "execution_count": 44,
   "metadata": {},
   "outputs": [
    {
     "data": {
      "text/plain": [
       "array([[ 0.30027916,  0.43175936,  0.39687549,  0.3966517 ,  0.44015721,\n",
       "         0.35735953,  0.29517681],\n",
       "       [-0.62917444, -0.16943512,  0.04224698, -0.34352815,  0.20334059,\n",
       "         0.40231912,  0.50242093]])"
      ]
     },
     "execution_count": 44,
     "metadata": {},
     "output_type": "execute_result"
    }
   ],
   "source": [
    "pca2.components_"
   ]
  },
  {
   "cell_type": "markdown",
   "metadata": {},
   "source": [
    "La première composante de l'ACP représente les villes, des plus dangereuses au moins dangereuses. C'est à dire qu'une ville qui présente une faible valeur pour la composnte 1 est une ville où il y'a très peu de crime et inversment pour les villes qui prennent de grandes valeurs. La deuxieme composante est corrélée positivement et fortement avec le Larcin et le Vol de voiture et corrélée négativement aux Meurtres, aux Enlevements et aux Agressions , c'est à dire qu'une ville avec une forte valeur pour la composante 2 c'est une ville ville ou il n'y pas beaucoup de meurtres, d'enlèvements ou encore d'Agressions, mais en revanche c'est une ville où on compte un grand nombre de Larcin ainsi que de Vol de voiture, c'est tout à fait l'inverse pour les villes à faibles coeffictients pour la composante 2."
   ]
  },
  {
   "cell_type": "code",
   "execution_count": 31,
   "metadata": {},
   "outputs": [
    {
     "data": {
      "image/png": "[encoded data removed]",
      "text/plain": [
       "<matplotlib.figure.Figure at 0x1a132b2668>"
      ]
     },
     "metadata": {},
     "output_type": "display_data"
    }
   ],
   "source": [
    "plt.scatter(Y_pca[:,0],Y_pca[:,1])\n",
    "\n",
    "for label, x, y in zip(labels2,Y_pca[:,0],Y_pca[:,1]):\n",
    "    plt.annotate(label, xy=(x,y),xytext=(-0.2,0.2),textcoords='offset points')\n",
    "plt.show()"
   ]
  },
  {
   "cell_type": "markdown",
   "metadata": {},
   "source": [
    "### 4. K-means sur le fichier de villes.csv"
   ]
  },
  {
   "cell_type": "code",
   "execution_count": null,
   "metadata": {
    "collapsed": true
   },
   "outputs": [],
   "source": [
    "from sklearn.cluster import KMeans\n",
    "\n",
    "kmeans=KMeans(n_clusters=3, random_state=0 ).fit_predict(X)"
   ]
  },
  {
   "cell_type": "code",
   "execution_count": 94,
   "metadata": {},
   "outputs": [
    {
     "data": {
      "image/png": "[encoded data removed]",
      "text/plain": [
       "<matplotlib.figure.Figure at 0x1a12263be0>"
      ]
     },
     "metadata": {},
     "output_type": "display_data"
    }
   ],
   "source": [
    "colors = ['red','green','blue']\n",
    "plt.scatter(X_pca[:, 0], X_pca[:, 1], c= kmeans, cmap=matplotlib.colors.ListedColormap(colors))\n",
    "for label, x, y in zip(labels, X_pca[:, 0], X_pca[:, 1]):\n",
    "    plt.annotate(label, xy=(x, y), xytext=(-0.2, 0.2), textcoords='offset points')\n",
    "plt.show()"
   ]
  },
  {
   "cell_type": "markdown",
   "metadata": {},
   "source": [
    "### 5. AgglomerativeClustering"
   ]
  },
  {
   "cell_type": "markdown",
   "metadata": {},
   "source": [
    "#### Methode \"ward\""
   ]
  },
  {
   "cell_type": "code",
   "execution_count": 91,
   "metadata": {
    "collapsed": true
   },
   "outputs": [],
   "source": [
    "from sklearn.cluster import AgglomerativeClustering\n",
    "AggCl=AgglomerativeClustering(n_clusters=3,linkage='ward').fit_predict(X)"
   ]
  },
  {
   "cell_type": "code",
   "execution_count": 93,
   "metadata": {},
   "outputs": [
    {
     "data": {
      "image/png": "[encoded data removed]",
      "text/plain": [
       "<matplotlib.figure.Figure at 0x1a12051828>"
      ]
     },
     "metadata": {},
     "output_type": "display_data"
    }
   ],
   "source": [
    "colors = ['red','green','blue']\n",
    "plt.scatter(X_pca[:, 0], X_pca[:, 1], c= AggCl, cmap=matplotlib.colors.ListedColormap(colors))\n",
    "for label, x, y in zip(labels, X_pca[:, 0], X_pca[:, 1]):\n",
    "    plt.annotate(label, xy=(x, y), xytext=(-0.2, 0.2), textcoords='offset points')\n",
    "plt.show()"
   ]
  },
  {
   "cell_type": "markdown",
   "metadata": {},
   "source": [
    "#### Methode \"average\""
   ]
  },
  {
   "cell_type": "code",
   "execution_count": 95,
   "metadata": {
    "collapsed": true
   },
   "outputs": [],
   "source": [
    "AggCl=AgglomerativeClustering(n_clusters=3,linkage='average').fit_predict(X)"
   ]
  },
  {
   "cell_type": "code",
   "execution_count": 96,
   "metadata": {},
   "outputs": [
    {
     "data": {
      "image/png": "[encoded data removed]",
      "text/plain": [
       "<matplotlib.figure.Figure at 0x1a1245fda0>"
      ]
     },
     "metadata": {},
     "output_type": "display_data"
    }
   ],
   "source": [
    "colors = ['red','green','blue']\n",
    "plt.scatter(X_pca[:, 0], X_pca[:, 1], c= AggCl, cmap=matplotlib.colors.ListedColormap(colors))\n",
    "for label, x, y in zip(labels, X_pca[:, 0], X_pca[:, 1]):\n",
    "    plt.annotate(label, xy=(x, y), xytext=(-0.2, 0.2), textcoords='offset points')\n",
    "plt.show()"
   ]
  },
  {
   "cell_type": "markdown",
   "metadata": {},
   "source": [
    "### 6. Meilleure partition"
   ]
  },
  {
   "cell_type": "code",
   "execution_count": 117,
   "metadata": {},
   "outputs": [
    {
     "name": "stdout",
     "output_type": "stream",
     "text": [
      "Overwriting dunn.py\n"
     ]
    }
   ],
   "source": [
    "%%file dunn.py\n",
    "def dunn(c, distances):\n",
    "    \"\"\"\n",
    "    Dunn index for cluster validation (the bigger, the better)\n",
    "    \"\"\"\n",
    "    unique_cluster_distances = np.unique(min_cluster_distances(c, distances))\n",
    "    max_diameter = max(diameter(c, distances))\n",
    "\n",
    "    if np.size(unique_cluster_distances) > 1:\n",
    "        return unique_cluster_distances[1] / max_diameter\n",
    "    else:\n",
    "        return unique_cluster_distances[0] / max_diameter\n",
    "\n",
    "def min_cluster_distances(c, distances):\n",
    "    \"\"\"Calculates the distances between the two nearest points of each cluster\"\"\"\n",
    "    min_distances = np.zeros((max(c) + 1, max(c) + 1))\n",
    "    for i in np.arange(0, len(c)):\n",
    "        if c[i] == -1: continue\n",
    "        for ii in np.arange(i + 1, len(c)):\n",
    "            if c[ii] == -1: continue\n",
    "            if c[i] != c[ii] and distances[i, ii] > min_distances[c[i], c[ii]]:\n",
    "                min_distances[c[i], c[ii]] = min_distances[c[ii], c[i]] = distances[i, ii]\n",
    "    return min_distances\n",
    "\n",
    "def diameter(c, distances):\n",
    "    \"\"\"Calculates cluster diameters (the distance between the two farthest data points in a cluster)\"\"\"\n",
    "    diameters = np.zeros(max(c) + 1)\n",
    "    for i in np.arange(0, len(c)):\n",
    "        if c[i] == -1: continue\n",
    "        for ii in np.arange(i + 1, len(c)):\n",
    "            if c[ii] == -1: continue\n",
    "            if c[i] != -1 or c[ii] != -1 and c[i] == c[ii] and distances[i, ii] > diameters[c[i]]:\n",
    "                diameters[c[i]] = distances[i, ii]\n",
    "    return diameters "
   ]
  },
  {
   "cell_type": "code",
   "execution_count": 119,
   "metadata": {},
   "outputs": [
    {
     "name": "stdout",
     "output_type": "stream",
     "text": [
      "3.05975336916\n",
      "0.618115643726\n",
      "\n",
      "0.727910763631\n",
      "0.409120008323\n",
      "\n",
      "0.590587779213\n",
      "0.361239785271\n",
      "\n",
      "0.439751608376\n",
      "0.326583399544\n",
      "\n"
     ]
    }
   ],
   "source": [
    "from sklearn import metrics\n",
    "from sklearn.metrics.pairwise import euclidean_distances\n",
    "for i in np.arange(2, 6):\n",
    "    clustering = KMeans(n_clusters=i).fit_predict(X)\n",
    "    print(dunn(clustering,euclidean_distances(X, X))) \n",
    "    print(metrics.silhouette_score(X, clustering,metric='euclidean'))\n",
    "    print()\n"
   ]
  },
  {
   "cell_type": "markdown",
   "metadata": {},
   "source": [
    "La meilleure partition pour Kmeans sur les données \"villes.csv\" semble être une partition à 3 clusters d'après les indices Silhouette et Dunn (0.727 et 0.409)."
   ]
  },
  {
   "cell_type": "markdown",
   "metadata": {
    "collapsed": true
   },
   "source": [
    "## II. Apprentissage supervisé : Feature engineering et Classification"
   ]
  },
  {
   "cell_type": "markdown",
   "metadata": {},
   "source": [
    "###    1. Etude uniquement sur les données numeriques"
   ]
  },
  {
   "cell_type": "code",
   "execution_count": 46,
   "metadata": {},
   "outputs": [],
   "source": [
    "Entete=['A1','A2','A3','A4','A5','A6','A7','A8','A9','A10','A11','A12','A13','A14','A15','A16']\n",
    "data1=pd.read_csv('/Users/ChafiounDean/Downloads/TPML/credit.data',sep='\\t',header=None,names=Entete)\n",
    "\n",
    "data1_1=data1.values #Transformation de dataframe pandas en numpy.array\n",
    "\n",
    "##Séparation des caracteristiques du la variable à prédire.\n",
    "\n",
    "caract=np.copy(data1_1[:,0:15]) #Variables caracteristiques\n",
    "target=np.copy(data1_1[:,15]) #Variable à prédire."
   ]
  },
  {
   "cell_type": "code",
   "execution_count": 47,
   "metadata": {},
   "outputs": [],
   "source": [
    "for i in range(0,len(caract)): #Transformation des valeurs des \"?\" par des numpy.nan.\n",
    "    for j in range(0,15):\n",
    "        if caract[i,j]=='?':\n",
    "            caract[i,j]=np.nan\n",
    "\n",
    "for k in range(0,len(target)): #Binarisation de la variable à prédire.(\"+\" en 1) et (\"-\" en 0)\n",
    "    if target[k]=='+':\n",
    "        target[k]=1\n",
    "    else: target[k]=0\n",
    "        \n",
    "#target.astype('int32')"
   ]
  },
  {
   "cell_type": "code",
   "execution_count": 48,
   "metadata": {},
   "outputs": [],
   "source": [
    "CaractNum=np.copy(caract[:,[1,2,7,10,13,14]]) # Les caracteristique numeriques.\n",
    "CaractNum=CaractNum.astype(float)\n",
    "\n",
    "Caractnum=np.copy(CaractNum[~np.isnan(CaractNum).any(axis=1)]).astype(float) #Suppression des valeurs manquantes.\n",
    "target2=np.copy(target[~np.isnan(CaractNum).any(axis=1)]) #Supression des données de la variable à predire\n",
    "#correspondants aux lignes contenants les variable manquantes.\n"
   ]
  },
  {
   "cell_type": "code",
   "execution_count": 49,
   "metadata": {},
   "outputs": [],
   "source": [
    "u=np.random.random((10,5))\n",
    "v=np.ones(5)\n",
    "w=np.zeros(5)\n",
    "W=np.concatenate((v,w))\n",
    "np.random.shuffle(W)"
   ]
  },
  {
   "cell_type": "code",
   "execution_count": 50,
   "metadata": {},
   "outputs": [],
   "source": [
    "target2=target2.astype('int64')"
   ]
  },
  {
   "cell_type": "code",
   "execution_count": 51,
   "metadata": {},
   "outputs": [
    {
     "data": {
      "image/png": "[encoded data removed]",
      "text/plain": [
       "<matplotlib.figure.Figure at 0x10a2839b0>"
      ]
     },
     "metadata": {},
     "output_type": "display_data"
    }
   ],
   "source": [
    "plt.hist(target2)\n",
    "plt.show()"
   ]
  },
  {
   "cell_type": "markdown",
   "metadata": {},
   "source": [
    "##### NaiveBayes"
   ]
  },
  {
   "cell_type": "code",
   "execution_count": 67,
   "metadata": {},
   "outputs": [],
   "source": [
    "from sklearn.naive_bayes import GaussianNB\n",
    "modele=GaussianNB()"
   ]
  },
  {
   "cell_type": "code",
   "execution_count": 68,
   "metadata": {},
   "outputs": [],
   "source": [
    "modele.fit(Caractnum,target2)\n",
    "y_pred=modele.predict(Caractnum)"
   ]
  },
  {
   "cell_type": "code",
   "execution_count": 66,
   "metadata": {},
   "outputs": [],
   "source": [
    "from sklearn.metrics import confusion_matrix"
   ]
  },
  {
   "cell_type": "code",
   "execution_count": 69,
   "metadata": {},
   "outputs": [
    {
     "data": {
      "text/plain": [
       "array([[341,  26],\n",
       "       [159, 140]])"
      ]
     },
     "execution_count": 69,
     "metadata": {},
     "output_type": "execute_result"
    }
   ],
   "source": [
    "confusion_matrix(target2,y_pred)"
   ]
  },
  {
   "cell_type": "code",
   "execution_count": 54,
   "metadata": {},
   "outputs": [],
   "source": [
    "from sklearn.ensemble import RandomForestClassifier, GradientBoostingClassifier, AdaBoostClassifier,BaggingClassifier\n",
    "from sklearn.neighbors import KNeighborsClassifier\n",
    "from sklearn.neural_network import MLPClassifier\n",
    "from sklearn.naive_bayes import GaussianNB\n",
    "from sklearn.tree import DecisionTreeClassifier\n",
    "from sklearn.model_selection import cross_val_score, KFold"
   ]
  },
  {
   "cell_type": "code",
   "execution_count": 55,
   "metadata": {},
   "outputs": [],
   "source": [
    "clfs = {\n",
    "    \n",
    "    'RF': RandomForestClassifier(n_estimators=50),\n",
    "    'KNN': KNeighborsClassifier(n_neighbors=5),\n",
    "    'NB': GaussianNB(),\n",
    "    'CART': DecisionTreeClassifier(criterion='gini'),\n",
    "    'ID3': DecisionTreeClassifier(criterion='entropy'),\n",
    "    'DST': DecisionTreeClassifier(max_depth=1),\n",
    "    'ADAB': AdaBoostClassifier(n_estimators=50),\n",
    "    'BAG': BaggingClassifier(n_estimators=50),\n",
    "    'MLP': MLPClassifier(hidden_layer_sizes=(20, 10), alpha=0.001, max_iter=200)\n",
    "}"
   ]
  },
  {
   "cell_type": "code",
   "execution_count": 56,
   "metadata": {},
   "outputs": [],
   "source": [
    "import time"
   ]
  },
  {
   "cell_type": "code",
   "execution_count": 57,
   "metadata": {},
   "outputs": [
    {
     "name": "stdout",
     "output_type": "stream",
     "text": [
      "Accuracy for RF is: 0.797 +/- 0.034 in 0.452 sec\n",
      "AUC for RF is: 0.844 +/- 0.033 in 0.451 sec\n",
      "Precision for RF is: 0.797 +/- 0.037 in 0.409 sec\n",
      "\n",
      "\n",
      "Accuracy for KNN is: 0.703 +/- 0.008 in 0.033 sec\n",
      "AUC for KNN is: 0.733 +/- 0.024 in 0.018 sec\n",
      "Precision for KNN is: 0.708 +/- 0.041 in 0.012 sec\n",
      "\n",
      "\n",
      "Accuracy for NB is: 0.715 +/- 0.028 in 0.008 sec\n",
      "AUC for NB is: 0.794 +/- 0.049 in 0.007 sec\n",
      "Precision for NB is: 0.819 +/- 0.026 in 0.008 sec\n",
      "\n",
      "\n",
      "Accuracy for CART is: 0.737 +/- 0.019 in 0.013 sec\n",
      "AUC for CART is: 0.742 +/- 0.039 in 0.014 sec\n",
      "Precision for CART is: 0.716 +/- 0.036 in 0.014 sec\n",
      "\n",
      "\n",
      "Accuracy for ID3 is: 0.739 +/- 0.019 in 0.015 sec\n",
      "AUC for ID3 is: 0.733 +/- 0.019 in 0.016 sec\n",
      "Precision for ID3 is: 0.710 +/- 0.034 in 0.022 sec\n",
      "\n",
      "\n",
      "Accuracy for DST is: 0.743 +/- 0.042 in 0.008 sec\n",
      "AUC for DST is: 0.722 +/- 0.040 in 0.008 sec\n",
      "Precision for DST is: 0.861 +/- 0.064 in 0.007 sec\n",
      "\n",
      "\n",
      "Accuracy for ADAB is: 0.781 +/- 0.023 in 0.405 sec\n",
      "AUC for ADAB is: 0.830 +/- 0.025 in 0.412 sec\n",
      "Precision for ADAB is: 0.790 +/- 0.053 in 0.402 sec\n",
      "\n",
      "\n",
      "Accuracy for BAG is: 0.784 +/- 0.032 in 0.576 sec\n",
      "AUC for BAG is: 0.833 +/- 0.049 in 0.539 sec\n",
      "Precision for BAG is: 0.771 +/- 0.036 in 0.533 sec\n",
      "\n",
      "\n",
      "Accuracy for MLP is: 0.652 +/- 0.044 in 0.153 sec\n",
      "AUC for MLP is: 0.683 +/- 0.059 in 0.217 sec\n",
      "Precision for MLP is: 0.551 +/- 0.057 in 0.110 sec\n",
      "\n",
      "\n"
     ]
    }
   ],
   "source": [
    "kf = KFold(n_splits=5, shuffle=True, random_state=0)\n",
    "\n",
    "for i in clfs:\n",
    "    begin1 = time.time()\n",
    "    clf = clfs[i]\n",
    "    cv_acc = cross_val_score(clf, Caractnum, target2, cv=kf)\n",
    "    end1 = time.time()\n",
    "    begin2=time.time()\n",
    "    cv_precision = cross_val_score(clf, Caractnum, target2, cv=kf, scoring='precision') \n",
    "    end2=time.time()\n",
    "    begin3=time.time()\n",
    "    cv_auc = cross_val_score(clf, Caractnum, target2, cv=kf, scoring='roc_auc')\n",
    "    end3=time.time()\n",
    "    print(\"Accuracy for {0} is: {1:.3f} +/- {2:.3f} in {3:0.3f} sec\".format(i, np.mean(cv_acc), np.std(cv_acc),end1-begin1))\n",
    "    print(\"AUC for {0} is: {1:.3f} +/- {2:.3f} in {3:0.3f} sec\".format(i, np.mean(cv_auc), np.std(cv_auc),end2-begin2))\n",
    "    print(\"Precision for {0} is: {1:.3f} +/- {2:.3f} in {3:0.3f} sec\".format(i, np.mean(cv_precision), np.std(cv_precision),end3-begin3))\n",
    "    print(\"\\n\")"
   ]
  },
  {
   "cell_type": "markdown",
   "metadata": {},
   "source": [
    "Ici on va privilegier plus la Précision que le Rappel, qui semble plus pertinante, car en effet il serait plus bénéfique de maximiser la proportion de de personne à qui on devrait réellement attribuer un crédit parmi les personnes selectionnées par le modèle, ie la \"Precision\", que de chercher à maximiser la proportion d'attribution d'un crédit prédite parmi le nombre réel de personne à qui on devrait faire confiance, le \"Rappel\"."
   ]
  },
  {
   "cell_type": "code",
   "execution_count": 70,
   "metadata": {},
   "outputs": [],
   "source": [
    "def run_classifiers(clf,X,Y):\n",
    "    kf = KFold(n_splits=5, shuffle=True, random_state=0)\n",
    "\n",
    "    for i in clf:\n",
    "        #Accuracy\n",
    "        begin1 = time.time()\n",
    "        cv_acc = cross_val_score(clf[i], X, Y, cv=kf)\n",
    "        end1 = time.time()\n",
    "        #AUC\n",
    "        begin2=time.time()\n",
    "        cv_auc = cross_val_score(clf[i], X, Y, cv=kf, scoring='roc_auc')\n",
    "        end2=time.time()\n",
    "        #Precision\n",
    "        begin4=time.time()\n",
    "        cv_precision = cross_val_score(clf[i], X, Y, cv=kf, scoring='precision') \n",
    "        end4=time.time()\n",
    "        print(\"Accuracy for {0} is: {1:.3f} +/- {2:.3f} in {3:.3f} sec\".format(i, np.mean(cv_acc), np.std(cv_acc),end1-begin1))\n",
    "        print(\"AUC for {0} is: {1:.3f} +/- {2:.3f} in {3:.3f} sec\".format(i, np.mean(cv_auc), np.std(cv_auc),end2-begin2))\n",
    "        print(\"Precision for {0} is: {1:.3f} +/- {2:.3f} in {3:.3f} sec\".format(i, np.mean(cv_precision), np.std(cv_precision),end4-begin4))\n",
    "        print(\"\\n\")"
   ]
  },
  {
   "cell_type": "code",
   "execution_count": 71,
   "metadata": {},
   "outputs": [
    {
     "name": "stdout",
     "output_type": "stream",
     "text": [
      "Accuracy for RF is: 0.778 +/- 0.036 in 0.505 sec\n",
      "AUC for RF is: 0.852 +/- 0.038 in 0.495 sec\n",
      "Precision for RF is: 0.809 +/- 0.058 in 0.429 sec\n",
      "\n",
      "\n",
      "Accuracy for KNN is: 0.703 +/- 0.008 in 0.029 sec\n",
      "AUC for KNN is: 0.733 +/- 0.024 in 0.011 sec\n",
      "Precision for KNN is: 0.708 +/- 0.041 in 0.011 sec\n",
      "\n",
      "\n",
      "Accuracy for NB is: 0.715 +/- 0.028 in 0.009 sec\n",
      "AUC for NB is: 0.794 +/- 0.049 in 0.010 sec\n",
      "Precision for NB is: 0.819 +/- 0.026 in 0.008 sec\n",
      "\n",
      "\n",
      "Accuracy for CART is: 0.721 +/- 0.027 in 0.014 sec\n",
      "AUC for CART is: 0.724 +/- 0.025 in 0.014 sec\n",
      "Precision for CART is: 0.710 +/- 0.033 in 0.015 sec\n",
      "\n",
      "\n",
      "Accuracy for ID3 is: 0.745 +/- 0.020 in 0.016 sec\n",
      "AUC for ID3 is: 0.741 +/- 0.022 in 0.019 sec\n",
      "Precision for ID3 is: 0.715 +/- 0.036 in 0.017 sec\n",
      "\n",
      "\n",
      "Accuracy for DST is: 0.743 +/- 0.042 in 0.009 sec\n",
      "AUC for DST is: 0.722 +/- 0.040 in 0.008 sec\n",
      "Precision for DST is: 0.861 +/- 0.064 in 0.008 sec\n",
      "\n",
      "\n",
      "Accuracy for ADAB is: 0.781 +/- 0.023 in 0.430 sec\n",
      "AUC for ADAB is: 0.830 +/- 0.025 in 0.436 sec\n",
      "Precision for ADAB is: 0.790 +/- 0.053 in 0.418 sec\n",
      "\n",
      "\n",
      "Accuracy for BAG is: 0.776 +/- 0.042 in 0.546 sec\n",
      "AUC for BAG is: 0.835 +/- 0.044 in 0.550 sec\n",
      "Precision for BAG is: 0.787 +/- 0.030 in 0.550 sec\n",
      "\n",
      "\n",
      "Accuracy for MLP is: 0.596 +/- 0.091 in 0.188 sec\n",
      "AUC for MLP is: 0.652 +/- 0.092 in 0.344 sec\n",
      "Precision for MLP is: 0.446 +/- 0.120 in 0.097 sec\n",
      "\n",
      "\n"
     ]
    }
   ],
   "source": [
    "run_classifiers(clfs,Caractnum,target2)"
   ]
  },
  {
   "cell_type": "markdown",
   "metadata": {},
   "source": [
    "On observe que la valeur de chacune de mesures de performance utilisées tourne autour de 0.7 pour chacun des Algorithmes sauf pour le \"MultilayerPerceptron\" qui présente de valeurs plus basses."
   ]
  },
  {
   "cell_type": "markdown",
   "metadata": {},
   "source": [
    "#### Normalisation des variables continues StandartScaler()"
   ]
  },
  {
   "cell_type": "code",
   "execution_count": 72,
   "metadata": {},
   "outputs": [
    {
     "name": "stdout",
     "output_type": "stream",
     "text": [
      "StandardScaler(copy=True, with_mean=True, with_std=True)\n"
     ]
    }
   ],
   "source": [
    "scaler=StandardScaler()\n",
    "print(scaler.fit(Caractnum))\n",
    "Caractnum_CR=scaler.transform(Caractnum)#Caracteristiques numeriques centrées reduites"
   ]
  },
  {
   "cell_type": "code",
   "execution_count": 73,
   "metadata": {},
   "outputs": [
    {
     "name": "stdout",
     "output_type": "stream",
     "text": [
      "Accuracy for RF is: 0.809 +/- 0.037 in 0.467 sec\n",
      "AUC for RF is: 0.849 +/- 0.036 in 0.476 sec\n",
      "Precision for RF is: 0.801 +/- 0.032 in 0.426 sec\n",
      "\n",
      "\n",
      "Accuracy for KNN is: 0.749 +/- 0.040 in 0.016 sec\n",
      "AUC for KNN is: 0.807 +/- 0.045 in 0.013 sec\n",
      "Precision for KNN is: 0.777 +/- 0.053 in 0.020 sec\n",
      "\n",
      "\n",
      "Accuracy for NB is: 0.715 +/- 0.028 in 0.009 sec\n",
      "AUC for NB is: 0.794 +/- 0.049 in 0.009 sec\n",
      "Precision for NB is: 0.819 +/- 0.026 in 0.007 sec\n",
      "\n",
      "\n",
      "Accuracy for CART is: 0.728 +/- 0.030 in 0.013 sec\n",
      "AUC for CART is: 0.731 +/- 0.023 in 0.014 sec\n",
      "Precision for CART is: 0.708 +/- 0.041 in 0.014 sec\n",
      "\n",
      "\n",
      "Accuracy for ID3 is: 0.737 +/- 0.024 in 0.015 sec\n",
      "AUC for ID3 is: 0.744 +/- 0.023 in 0.016 sec\n",
      "Precision for ID3 is: 0.696 +/- 0.046 in 0.018 sec\n",
      "\n",
      "\n",
      "Accuracy for DST is: 0.743 +/- 0.042 in 0.010 sec\n",
      "AUC for DST is: 0.722 +/- 0.040 in 0.008 sec\n",
      "Precision for DST is: 0.861 +/- 0.064 in 0.008 sec\n",
      "\n",
      "\n",
      "Accuracy for ADAB is: 0.781 +/- 0.023 in 0.418 sec\n",
      "AUC for ADAB is: 0.830 +/- 0.024 in 0.417 sec\n",
      "Precision for ADAB is: 0.790 +/- 0.053 in 0.428 sec\n",
      "\n",
      "\n",
      "Accuracy for BAG is: 0.790 +/- 0.037 in 0.533 sec\n",
      "AUC for BAG is: 0.842 +/- 0.046 in 0.550 sec\n",
      "Precision for BAG is: 0.780 +/- 0.034 in 0.528 sec\n",
      "\n",
      "\n",
      "Accuracy for MLP is: 0.791 +/- 0.021 in 1.807 sec\n",
      "AUC for MLP is: 0.848 +/- 0.036 in 2.120 sec\n",
      "Precision for MLP is: 0.803 +/- 0.032 in 1.597 sec\n",
      "\n",
      "\n"
     ]
    }
   ],
   "source": [
    "run_classifiers(clfs,Caractnum_CR,target2)"
   ]
  },
  {
   "cell_type": "markdown",
   "metadata": {},
   "source": [
    "On peut voir qu'il y a une legère augmentation des valeurs de mesures de performance par rapport aux resultats précédants, de même que les valeurs pour l'algorithme \"MultilayerPerceptron\" se sont alignées avec les autres."
   ]
  },
  {
   "cell_type": "markdown",
   "metadata": {},
   "source": [
    "#### Normalisation des variables continues avec MinMaxScaler()"
   ]
  },
  {
   "cell_type": "code",
   "execution_count": 74,
   "metadata": {},
   "outputs": [
    {
     "name": "stdout",
     "output_type": "stream",
     "text": [
      "MinMaxScaler(copy=True, feature_range=(0, 1))\n"
     ]
    }
   ],
   "source": [
    "from sklearn.preprocessing import MinMaxScaler, StandardScaler\n",
    "\n",
    "scal=MinMaxScaler()\n",
    "\n",
    "print(scal.fit(Caractnum))\n",
    "Caract_Scaled=scal.transform(Caractnum)"
   ]
  },
  {
   "cell_type": "code",
   "execution_count": 75,
   "metadata": {},
   "outputs": [
    {
     "name": "stdout",
     "output_type": "stream",
     "text": [
      "Accuracy for RF is: 0.775 +/- 0.042 in 0.428 sec\n",
      "AUC for RF is: 0.844 +/- 0.038 in 0.463 sec\n",
      "Precision for RF is: 0.789 +/- 0.030 in 0.439 sec\n",
      "\n",
      "\n",
      "Accuracy for KNN is: 0.737 +/- 0.042 in 0.015 sec\n",
      "AUC for KNN is: 0.801 +/- 0.054 in 0.013 sec\n",
      "Precision for KNN is: 0.765 +/- 0.072 in 0.014 sec\n",
      "\n",
      "\n",
      "Accuracy for NB is: 0.715 +/- 0.028 in 0.009 sec\n",
      "AUC for NB is: 0.794 +/- 0.049 in 0.010 sec\n",
      "Precision for NB is: 0.819 +/- 0.026 in 0.009 sec\n",
      "\n",
      "\n",
      "Accuracy for CART is: 0.730 +/- 0.020 in 0.014 sec\n",
      "AUC for CART is: 0.747 +/- 0.030 in 0.016 sec\n",
      "Precision for CART is: 0.705 +/- 0.023 in 0.016 sec\n",
      "\n",
      "\n",
      "Accuracy for ID3 is: 0.739 +/- 0.013 in 0.017 sec\n",
      "AUC for ID3 is: 0.736 +/- 0.017 in 0.019 sec\n",
      "Precision for ID3 is: 0.715 +/- 0.045 in 0.019 sec\n",
      "\n",
      "\n",
      "Accuracy for DST is: 0.743 +/- 0.042 in 0.010 sec\n",
      "AUC for DST is: 0.722 +/- 0.040 in 0.008 sec\n",
      "Precision for DST is: 0.861 +/- 0.064 in 0.009 sec\n",
      "\n",
      "\n",
      "Accuracy for ADAB is: 0.781 +/- 0.023 in 0.466 sec\n",
      "AUC for ADAB is: 0.830 +/- 0.024 in 0.461 sec\n",
      "Precision for ADAB is: 0.790 +/- 0.053 in 0.448 sec\n",
      "\n",
      "\n",
      "Accuracy for BAG is: 0.775 +/- 0.041 in 0.601 sec\n",
      "AUC for BAG is: 0.837 +/- 0.045 in 0.624 sec\n",
      "Precision for BAG is: 0.776 +/- 0.035 in 0.726 sec\n",
      "\n",
      "\n",
      "Accuracy for MLP is: 0.760 +/- 0.031 in 1.612 sec\n",
      "AUC for MLP is: 0.823 +/- 0.036 in 1.530 sec\n",
      "Precision for MLP is: 0.814 +/- 0.041 in 1.486 sec\n",
      "\n",
      "\n"
     ]
    }
   ],
   "source": [
    "run_classifiers(clfs,Caract_Scaled,target2)"
   ]
  },
  {
   "cell_type": "markdown",
   "metadata": {},
   "source": [
    "On observe un résultat assez similaire qu'avec le \"StandartScaler()\"."
   ]
  },
  {
   "cell_type": "markdown",
   "metadata": {},
   "source": [
    "#### Création de nouvelles variables caractéristiques par combinaisons linéaires des variables initiales"
   ]
  },
  {
   "cell_type": "code",
   "execution_count": 76,
   "metadata": {},
   "outputs": [],
   "source": [
    "from sklearn.decomposition import PCA\n",
    "pca3=PCA(n_components=0.7)\n",
    "NewCaractnum=pca3.fit_transform(Caractnum)\n",
    "Variances=pca3.explained_variance_ratio_"
   ]
  },
  {
   "cell_type": "code",
   "execution_count": 77,
   "metadata": {},
   "outputs": [
    {
     "name": "stdout",
     "output_type": "stream",
     "text": [
      "Accuracy for RF is: 0.608 +/- 0.047 in 0.419 sec\n",
      "AUC for RF is: 0.662 +/- 0.037 in 0.453 sec\n",
      "Precision for RF is: 0.577 +/- 0.087 in 0.444 sec\n",
      "\n",
      "\n",
      "Accuracy for KNN is: 0.658 +/- 0.020 in 0.012 sec\n",
      "AUC for KNN is: 0.696 +/- 0.032 in 0.009 sec\n",
      "Precision for KNN is: 0.630 +/- 0.057 in 0.009 sec\n",
      "\n",
      "\n",
      "Accuracy for NB is: 0.631 +/- 0.037 in 0.009 sec\n",
      "AUC for NB is: 0.712 +/- 0.039 in 0.007 sec\n",
      "Precision for NB is: 0.871 +/- 0.065 in 0.007 sec\n",
      "\n",
      "\n",
      "Accuracy for CART is: 0.607 +/- 0.047 in 0.009 sec\n",
      "AUC for CART is: 0.606 +/- 0.045 in 0.009 sec\n",
      "Precision for CART is: 0.569 +/- 0.088 in 0.009 sec\n",
      "\n",
      "\n",
      "Accuracy for ID3 is: 0.607 +/- 0.047 in 0.010 sec\n",
      "AUC for ID3 is: 0.606 +/- 0.045 in 0.011 sec\n",
      "Precision for ID3 is: 0.569 +/- 0.088 in 0.011 sec\n",
      "\n",
      "\n",
      "Accuracy for DST is: 0.680 +/- 0.035 in 0.008 sec\n",
      "AUC for DST is: 0.657 +/- 0.019 in 0.007 sec\n",
      "Precision for DST is: 0.756 +/- 0.072 in 0.007 sec\n",
      "\n",
      "\n",
      "Accuracy for ADAB is: 0.685 +/- 0.029 in 0.355 sec\n",
      "AUC for ADAB is: 0.733 +/- 0.030 in 0.384 sec\n",
      "Precision for ADAB is: 0.699 +/- 0.071 in 0.386 sec\n",
      "\n",
      "\n",
      "Accuracy for BAG is: 0.605 +/- 0.049 in 0.388 sec\n",
      "AUC for BAG is: 0.672 +/- 0.043 in 0.394 sec\n",
      "Precision for BAG is: 0.568 +/- 0.088 in 0.400 sec\n",
      "\n",
      "\n",
      "Accuracy for MLP is: 0.593 +/- 0.098 in 0.129 sec\n",
      "AUC for MLP is: 0.567 +/- 0.127 in 0.112 sec\n",
      "Precision for MLP is: 0.584 +/- 0.181 in 0.089 sec\n",
      "\n",
      "\n"
     ]
    }
   ],
   "source": [
    "run_classifiers(clfs,NewCaractnum,target2)"
   ]
  },
  {
   "cell_type": "markdown",
   "metadata": {},
   "source": [
    "Comme la pratique de l'ACP peut parfois faire perdre de l'information de aux données, ce qui fait ici que l'on observe une baisse générale de la valeur des mesures de performance."
   ]
  },
  {
   "cell_type": "markdown",
   "metadata": {},
   "source": [
    "#### Selection de Variables"
   ]
  },
  {
   "cell_type": "code",
   "execution_count": 84,
   "metadata": {},
   "outputs": [
    {
     "data": {
      "image/png": "[encoded data removed]",
      "text/plain": [
       "<matplotlib.figure.Figure at 0x1a13fbdba8>"
      ]
     },
     "metadata": {},
     "output_type": "display_data"
    }
   ],
   "source": [
    "clf = RandomForestClassifier()\n",
    "clf.fit(Caractnum, target2.astype('int64'))\n",
    "importances=clf.feature_importances_\n",
    "sorted_idx = np.argsort(importances)[::-1]\n",
    "features =np.arange(1, Caractnum.shape[1]+1)\n",
    "padding = np.arange(Caractnum.size/len(Caractnum)) + 0.5\n",
    "plt.barh(padding, importances[sorted_idx], align='center')\n",
    "plt.yticks(padding, features[sorted_idx])\n",
    "plt.xlabel(\"Relative Importance\")\n",
    "plt.title(\"Variable Importance\")\n",
    "plt.show()"
   ]
  },
  {
   "cell_type": "markdown",
   "metadata": {},
   "source": [
    "Les meilleures variables pour prédire si on doit attribuer ou non le crédit sont d'après l'histogramme les indices 3,4 et 6. => Caractnum[:,[2,3,5]]"
   ]
  },
  {
   "cell_type": "code",
   "execution_count": 86,
   "metadata": {},
   "outputs": [
    {
     "name": "stdout",
     "output_type": "stream",
     "text": [
      "Accuracy for RF is: 0.736 +/- 0.039 in 0.423 sec\n",
      "AUC for RF is: 0.797 +/- 0.028 in 0.407 sec\n",
      "Precision for RF is: 0.728 +/- 0.049 in 0.380 sec\n",
      "\n",
      "\n",
      "Accuracy for KNN is: 0.713 +/- 0.018 in 0.011 sec\n",
      "AUC for KNN is: 0.750 +/- 0.035 in 0.010 sec\n",
      "Precision for KNN is: 0.707 +/- 0.042 in 0.010 sec\n",
      "\n",
      "\n",
      "Accuracy for NB is: 0.709 +/- 0.029 in 0.009 sec\n",
      "AUC for NB is: 0.773 +/- 0.034 in 0.008 sec\n",
      "Precision for NB is: 0.866 +/- 0.060 in 0.007 sec\n",
      "\n",
      "\n",
      "Accuracy for CART is: 0.709 +/- 0.042 in 0.010 sec\n",
      "AUC for CART is: 0.710 +/- 0.032 in 0.013 sec\n",
      "Precision for CART is: 0.706 +/- 0.077 in 0.013 sec\n",
      "\n",
      "\n",
      "Accuracy for ID3 is: 0.716 +/- 0.031 in 0.011 sec\n",
      "AUC for ID3 is: 0.724 +/- 0.026 in 0.011 sec\n",
      "Precision for ID3 is: 0.721 +/- 0.061 in 0.011 sec\n",
      "\n",
      "\n",
      "Accuracy for DST is: 0.743 +/- 0.042 in 0.008 sec\n",
      "AUC for DST is: 0.722 +/- 0.040 in 0.007 sec\n",
      "Precision for DST is: 0.861 +/- 0.064 in 0.007 sec\n",
      "\n",
      "\n",
      "Accuracy for ADAB is: 0.769 +/- 0.025 in 0.381 sec\n",
      "AUC for ADAB is: 0.816 +/- 0.031 in 0.380 sec\n",
      "Precision for ADAB is: 0.797 +/- 0.045 in 0.388 sec\n",
      "\n",
      "\n",
      "Accuracy for BAG is: 0.748 +/- 0.035 in 0.425 sec\n",
      "AUC for BAG is: 0.796 +/- 0.032 in 0.428 sec\n",
      "Precision for BAG is: 0.742 +/- 0.061 in 0.421 sec\n",
      "\n",
      "\n",
      "Accuracy for MLP is: 0.722 +/- 0.059 in 0.414 sec\n",
      "AUC for MLP is: 0.711 +/- 0.047 in 0.267 sec\n",
      "Precision for MLP is: 0.601 +/- 0.112 in 0.325 sec\n",
      "\n",
      "\n"
     ]
    }
   ],
   "source": [
    "run_classifiers(clfs,Caractnum[:,[2,3,5]],target2)"
   ]
  },
  {
   "cell_type": "markdown",
   "metadata": {},
   "source": [
    "### 2. Considérer la totalité de la base originale variables continues et catégorielles"
   ]
  },
  {
   "cell_type": "code",
   "execution_count": 14,
   "metadata": {},
   "outputs": [],
   "source": [
    "from sklearn.preprocessing import Imputer,OneHotEncoder"
   ]
  },
  {
   "cell_type": "markdown",
   "metadata": {},
   "source": [
    "#### Variables catégorielles"
   ]
  },
  {
   "cell_type": "code",
   "execution_count": 10,
   "metadata": {},
   "outputs": [],
   "source": [
    "col_cat=[0,3,4,5,6,8,9,11,12]\n",
    "X_cat = np.copy(caract[:,[0,3,4,5,6,8,9,11,12]])\n",
    "for col_id in range(len(col_cat)):\n",
    "    unique_val, val_idx = np.unique(X_cat[:, col_id], return_inverse=True)\n",
    "    X_cat[:, col_id] = val_idx"
   ]
  },
  {
   "cell_type": "code",
   "execution_count": null,
   "metadata": {},
   "outputs": [],
   "source": [
    "imp_cat = Imputer(missing_values=0, strategy='most_frequent')\n",
    "X_cat[:, range(5)] = imp_cat.fit_transform(X_cat[:, range(5)])"
   ]
  },
  {
   "cell_type": "markdown",
   "metadata": {},
   "source": [
    "#### Variables numériques"
   ]
  },
  {
   "cell_type": "code",
   "execution_count": 12,
   "metadata": {},
   "outputs": [],
   "source": [
    "col_num=[1,2,7,10,13,14]\n",
    "X_num = np.copy(caract[:,[1,2,7,10,13,14]])\n",
    "X_num[X_num == '?'] = np.nan\n",
    "X_num = X_num.astype(float)"
   ]
  },
  {
   "cell_type": "code",
   "execution_count": 13,
   "metadata": {},
   "outputs": [],
   "source": [
    "imp_num = Imputer(missing_values=np.nan, strategy='mean')\n",
    "X_num = imp_num.fit_transform(X_num)"
   ]
  },
  {
   "cell_type": "markdown",
   "metadata": {},
   "source": [
    "##### Traitement des 9 variables catégorielles"
   ]
  },
  {
   "cell_type": "code",
   "execution_count": 46,
   "metadata": {},
   "outputs": [],
   "source": [
    "X_cat_bin = OneHotEncoder().fit_transform(X_cat).toarray().astype('int64')"
   ]
  },
  {
   "cell_type": "code",
   "execution_count": 23,
   "metadata": {},
   "outputs": [
    {
     "name": "stdout",
     "output_type": "stream",
     "text": [
      "StandardScaler(copy=True, with_mean=True, with_std=True)\n"
     ]
    }
   ],
   "source": [
    "print(scaler.fit(X_num))\n",
    "X_num_scaled=scaler.transform(X_num)"
   ]
  },
  {
   "cell_type": "code",
   "execution_count": 53,
   "metadata": {},
   "outputs": [],
   "source": [
    "Pca=PCA(n_components=0.7)\n",
    "Acp=Pca.fit_transform(np.concatenate((X_num_scaled,X_cat_bin),axis=1))"
   ]
  },
  {
   "cell_type": "code",
   "execution_count": 54,
   "metadata": {},
   "outputs": [
    {
     "data": {
      "text/plain": [
       "array([ 0.2137223 ,  0.1069786 ,  0.09937104,  0.09178109,  0.06993808,\n",
       "        0.06617599,  0.05711544])"
      ]
     },
     "execution_count": 54,
     "metadata": {},
     "output_type": "execute_result"
    }
   ],
   "source": [
    "Pca.explained_variance_ratio_"
   ]
  },
  {
   "cell_type": "code",
   "execution_count": 58,
   "metadata": {},
   "outputs": [
    {
     "data": {
      "image/png": "[encoded data removed]",
      "text/plain": [
       "<matplotlib.figure.Figure at 0x1a165cca90>"
      ]
     },
     "metadata": {},
     "output_type": "display_data"
    }
   ],
   "source": [
    "plt.hist(Pca.explained_variance_ratio_)\n",
    "plt.show()"
   ]
  },
  {
   "cell_type": "code",
   "execution_count": 56,
   "metadata": {},
   "outputs": [],
   "source": [
    "X_final=np.concatenate((X_num_scaled,X_cat_bin,Acp),axis=1)"
   ]
  },
  {
   "cell_type": "code",
   "execution_count": 60,
   "metadata": {},
   "outputs": [
    {
     "data": {
      "text/plain": [
       "dtype('float64')"
      ]
     },
     "execution_count": 60,
     "metadata": {},
     "output_type": "execute_result"
    }
   ],
   "source": [
    "X_final.dtype"
   ]
  },
  {
   "cell_type": "code",
   "execution_count": 64,
   "metadata": {},
   "outputs": [
    {
     "data": {
      "image/png": "[encoded data removed]",
      "text/plain": [
       "<matplotlib.figure.Figure at 0x1a1560c908>"
      ]
     },
     "metadata": {},
     "output_type": "display_data"
    }
   ],
   "source": [
    "clf = RandomForestClassifier()\n",
    "clf.fit(X_final, target.astype('int64'))\n",
    "importances=clf.feature_importances_\n",
    "sorted_idx = np.argsort(importances)[::-1]\n",
    "features =np.arange(1, X_final.shape[1]+1)\n",
    "padding = np.arange(X_final.size/len(X_final)) + 0.5\n",
    "plt.figure(figsize=(20,30))\n",
    "plt.barh(padding, importances[sorted_idx], align='center')\n",
    "plt.yticks(padding, features[sorted_idx])\n",
    "plt.xlabel(\"Relative Importance\")\n",
    "plt.title(\"Variable Importance\")\n",
    "plt.show()"
   ]
  },
  {
   "cell_type": "code",
   "execution_count": 69,
   "metadata": {},
   "outputs": [
    {
     "name": "stdout",
     "output_type": "stream",
     "text": [
      "Accuracy for RF is: 0.775 +/- 0.033 in 0.529 sec\n",
      "AUC for RF is: 0.868 +/- 0.026 in 0.406 sec\n",
      "Recall for RF is: 0.755 +/- 0.040 in 0.415 sec\n",
      "Precision for RF is: 0.744 +/- 0.052 in 0.393 sec\n",
      "\n",
      "\n",
      "Accuracy for KNN is: 0.826 +/- 0.042 in 0.013 sec\n",
      "AUC for KNN is: 0.890 +/- 0.023 in 0.011 sec\n",
      "Recall for KNN is: 0.818 +/- 0.037 in 0.011 sec\n",
      "Precision for KNN is: 0.801 +/- 0.076 in 0.011 sec\n",
      "\n",
      "\n",
      "Accuracy for NB is: 0.856 +/- 0.036 in 0.008 sec\n",
      "AUC for NB is: 0.901 +/- 0.023 in 0.008 sec\n",
      "Recall for NB is: 0.932 +/- 0.028 in 0.007 sec\n",
      "Precision for NB is: 0.788 +/- 0.057 in 0.007 sec\n",
      "\n",
      "\n",
      "Accuracy for CART is: 0.766 +/- 0.017 in 0.010 sec\n",
      "AUC for CART is: 0.770 +/- 0.027 in 0.010 sec\n",
      "Recall for CART is: 0.764 +/- 0.033 in 0.010 sec\n",
      "Precision for CART is: 0.738 +/- 0.059 in 0.010 sec\n",
      "\n",
      "\n",
      "Accuracy for ID3 is: 0.778 +/- 0.026 in 0.011 sec\n",
      "AUC for ID3 is: 0.777 +/- 0.025 in 0.011 sec\n",
      "Recall for ID3 is: 0.768 +/- 0.031 in 0.011 sec\n",
      "Precision for ID3 is: 0.740 +/- 0.053 in 0.011 sec\n",
      "\n",
      "\n",
      "Accuracy for DST is: 0.856 +/- 0.036 in 0.009 sec\n",
      "AUC for DST is: 0.864 +/- 0.034 in 0.007 sec\n",
      "Recall for DST is: 0.929 +/- 0.034 in 0.007 sec\n",
      "Precision for DST is: 0.789 +/- 0.056 in 0.007 sec\n",
      "\n",
      "\n",
      "Accuracy for ADAB is: 0.843 +/- 0.043 in 0.376 sec\n",
      "AUC for ADAB is: 0.868 +/- 0.040 in 0.359 sec\n",
      "Recall for ADAB is: 0.894 +/- 0.044 in 0.369 sec\n",
      "Precision for ADAB is: 0.789 +/- 0.069 in 0.377 sec\n",
      "\n",
      "\n",
      "Accuracy for BAG is: 0.785 +/- 0.026 in 0.405 sec\n",
      "AUC for BAG is: 0.871 +/- 0.027 in 0.394 sec\n",
      "Recall for BAG is: 0.768 +/- 0.034 in 0.394 sec\n",
      "Precision for BAG is: 0.762 +/- 0.067 in 0.408 sec\n",
      "\n",
      "\n",
      "Accuracy for MLP is: 0.846 +/- 0.029 in 1.261 sec\n",
      "AUC for MLP is: 0.903 +/- 0.017 in 1.105 sec\n",
      "Recall for MLP is: 0.883 +/- 0.055 in 1.451 sec\n",
      "Precision for MLP is: 0.786 +/- 0.057 in 1.226 sec\n",
      "\n",
      "\n"
     ]
    }
   ],
   "source": [
    "run_classifiers(clfs,X_final[:,[6,38,39,47]],target.astype('int64'))"
   ]
  },
  {
   "cell_type": "code",
   "execution_count": null,
   "metadata": {},
   "outputs": [],
   "source": []
  },
  {
   "cell_type": "code",
   "execution_count": null,
   "metadata": {},
   "outputs": [],
   "source": []
  }
 ],
 "metadata": {
  "kernelspec": {
   "display_name": "Python 3",
   "language": "python",
   "name": "python3"
  },
  "language_info": {
   "codemirror_mode": {
    "name": "ipython",
    "version": 3
   },
   "file_extension": ".py",
   "mimetype": "text/x-python",
   "name": "python",
   "nbconvert_exporter": "python",
   "pygments_lexer": "ipython3",
   "version": "3.6.3"
  }
 },
 "nbformat": 4,
 "nbformat_minor": 2
}
